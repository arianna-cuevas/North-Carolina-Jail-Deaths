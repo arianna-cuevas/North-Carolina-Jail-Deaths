{
  "nbformat": 4,
  "nbformat_minor": 0,
  "metadata": {
    "colab": {
      "provenance": [],
      "history_visible": true
    },
    "kernelspec": {
      "name": "python3",
      "display_name": "Python 3"
    },
    "language_info": {
      "name": "python"
    }
  },
  "cells": [
    {
      "cell_type": "markdown",
      "source": [
        "# Overview\n",
        "-   The purpose of these instructions is to give the context and tools to create two subsets relating to jail deaths in North Carolina divided by counties in Python.\n",
        "-   This will also allow you to eventually merge them together and analyze the data and variables pulled from the large dataset.\n",
        "-   All of the data is specifically from different counties in North Carolina.\n",
        "\n",
        "In this tutorial, you will:\n",
        "1. Create a file for your data.\n",
        "2. Find and import original csv into your CoLab notebook.\n",
        "3. Create two dataframes from the raw dataset.\n",
        "4. Export those two dataframes and turn them into csv files.\n",
        "\n",
        "\n",
        "\n",
        "## Getting Started\n",
        "----\n",
        "1.  First, you will want to create a file in the file explorer to add all your work into.\n",
        "    \n",
        "-   The name of this folder is not important, as long as you know what it is. This step is important because you need to have all of your important files in one place so that nothing gets lost.\n",
        "2. Next, create a Google CoLab Notebook to begin creating your subsets. This is where all the coding will happen and this is where you will do the work of filtering and merging subsets.\n",
        "3. After creating your CoLab notebook, you should be ready to download the csv file into the notebook. You should begin by using  [this link](https://www.reuters.com/investigates/special-report/usa-jails-graphic/) to find the dataset called \"North Carolina\" and download the csv file they provide.\n",
        "\n",
        "-   Do not download the pdf version, as the csv is what you will need to create your subsets in Google CoLab.  \n",
        "-   Once you complete the download, you should have a folder called \"North Carolina\" which includes a Microsoft Excel worksheet, and two csv files titled \"NorthCarolina_deaths.csv\" and \"NorthCarolina_jails.csv\".\n",
        "-   **You need to use the file titled \"NorthCarolina_deaths.csv\" in order to create this subset.** This is the csv file that has all the information needed.\n",
        "\n",
        "4.  Next, you will need to upload the North Carolina deaths csv file into the Google CoLab notebook. To do this, you should click the folder icon in the toolbar on the left of the Google CoLab notebook.\n",
        "-   Click the folder above \"sample data\" and then click the folder that says \"content\". Next, click the three dots that appears next to \"content\" when you hover your mouse and hit \"upload\".\n",
        "-   Once you have clicked upload, it will prompt you to add your csv file. This is where you will add the **\"NorthCarolina_deaths.csv\"** file.\n",
        "5.\n",
        "The next step is to import the Pandas and Numpy package as seen below:"
      ],
      "metadata": {
        "id": "M0LhWFsKT_7_"
      }
    },
    {
      "cell_type": "code",
      "source": [
        "import pandas as pd\n",
        "import numpy as np"
      ],
      "metadata": {
        "id": "o__dXZmIzb3U"
      },
      "execution_count": 3,
      "outputs": []
    },
    {
      "cell_type": "markdown",
      "source": [
        "This step will allow you to use pandas to code with your csv file and create your subsets.\n",
        "\n",
        "6. Read the North Carolina Deaths csv file and display data as seen below:\n",
        "-   \n",
        " File is read through 'read_csv()' function"
      ],
      "metadata": {
        "id": "7ahClxzjUbv9"
      }
    },
    {
      "cell_type": "code",
      "source": [
        "dataframe = pd.read_csv(\"NorthCarolina_deaths.csv\")"
      ],
      "metadata": {
        "id": "sb4RMVJD9ZlE"
      },
      "execution_count": 19,
      "outputs": []
    },
    {
      "cell_type": "markdown",
      "source": [
        "Now you should be ready to begin with your first subset!\n",
        "\n",
        "\n",
        "## Creating your first subset\n",
        "\n",
        "After you have uploaded the csv and imported Pandas and Numpy, you are ready to begin filtering your data.\n",
        "\n",
        "1. You will need to isolate two variables from the large csv file. You should be separating the data about causes of deaths of inmates from Wake County.\n",
        "2. To do this, you will need to utilize the function .loc which is used to filter data by columns. Input the function seen below and then follow this with brackets to input information.\n",
        "\n",
        "        'df.loc[[]]'\n",
        "2. Input the brackets after the .loc function and make sure to include the row numbers that need to be included. These row numbers should be the ones that correspond to Wake county, so that the only data we are seeing is for this specific county. These row numbers are 101-119.\n",
        "3. In the next bracket, you will need to input the specific columns that correspond to the variables that we need for this subset. The columns we want to look at our \"county\" and \"causes_detail\", as these columns will isolate the information relating to the county (which has already been specified by the numbers to only get Wake) and the causes of death for the inmates in this specific county.\n",
        "4. Finally input the function as seen below:"
      ],
      "metadata": {
        "id": "mCf3VFyAXEFj"
      }
    },
    {
      "cell_type": "code",
      "source": [
        "df.loc[101:116, [\"county\", \"cause_detail\"]]"
      ],
      "metadata": {
        "colab": {
          "base_uri": "https://localhost:8080/"
        },
        "id": "y4RvdmdBC8aG",
        "outputId": "f88e0858-27c9-4795-c431-b69ab846e99e"
      },
      "execution_count": 11,
      "outputs": [
        {
          "output_type": "execute_result",
          "data": {
            "text/plain": [
              "(    county                                       cause_detail\n",
              " 101   Wake                             ischemic heart disease\n",
              " 102   Wake                                            suicide\n",
              " 103   Wake                                            suicide\n",
              " 104   Wake                                           natural \n",
              " 105   Wake                                    hanging w sheet\n",
              " 106   Wake                                           natural \n",
              " 107   Wake                                      brain injury \n",
              " 108   Wake                                           natural \n",
              " 109   Wake                                           natural \n",
              " 110   Wake             climbed rails and jumped off mezzanine\n",
              " 111   Wake  complications of withdrawal due to chronic sub...\n",
              " 112   Wake                                            suicide\n",
              " 113   Wake                                           natural \n",
              " 114   Wake                                                NaN\n",
              " 115   Wake                                            suicide\n",
              " 116   Wake                                           natural ,)"
            ]
          },
          "metadata": {},
          "execution_count": 11
        }
      ]
    },
    {
      "cell_type": "markdown",
      "source": [
        "The function uses the row numbers for the variable \"Wake County\" to separate that county from the larger csv with every county listed in North Carolina. Then, using the brackets, the function shows only the county and causes of death columns from the data that we need for this subset.\n",
        "  \n",
        "  Once you have completed this step, a table with your new data should appear!"
      ],
      "metadata": {
        "id": "9biNCDjrXpYT"
      }
    },
    {
      "cell_type": "markdown",
      "source": [
        "**After you have finished inputing the function, you should see the two variables that you have pulled out from the large csv and you have your first subset!**"
      ],
      "metadata": {
        "id": "oH9Z_CIbqs9f"
      }
    },
    {
      "cell_type": "markdown",
      "source": [
        "## Creating your second subset\n",
        "The next step to recreating this data repository is repeating the steps above with a second subset with a few changes to produce a different outcome.\n",
        "\n",
        "1. To begin, you will want to locate the row numbers for Mecklenburg. In the North Carolina Deaths csv file, you will find the entries for Mecklenburg County at rows 70-87.\n",
        "\n",
        "\n",
        "2. Next, you should input the functions similar to the ones you put in earlier for the Wake County subset, but with different column numbers, as seen below:"
      ],
      "metadata": {
        "id": "xrSZqG8bv1T2"
      }
    },
    {
      "cell_type": "code",
      "source": [
        "df.loc[70:87,[\"county\",\"cause_detail\"]]"
      ],
      "metadata": {
        "colab": {
          "base_uri": "https://localhost:8080/",
          "height": 614
        },
        "id": "zEXM1I2q2pHc",
        "outputId": "71795a52-c1b1-4e64-8a66-731027778f6c"
      },
      "execution_count": 13,
      "outputs": [
        {
          "output_type": "execute_result",
          "data": {
            "text/plain": [
              "         county                                       cause_detail\n",
              "70  Mecklenburg                            pulmonary thromboemboli\n",
              "71  Mecklenburg                                       heart attack\n",
              "72  Mecklenburg                        gastrointestinal hemorrhage\n",
              "73  Mecklenburg                             ischemic heart disease\n",
              "74  Mecklenburg  massive pulmonary embolus, cerebral tumor, foc...\n",
              "75  Mecklenburg                           morbid obesity, diabetes\n",
              "76  Mecklenburg      cardiac arrythmia, hypertensive heart disease\n",
              "77  Mecklenburg  anoxic encehalopathy with an underlying cause ...\n",
              "78  Mecklenburg                                            hanging\n",
              "79  Mecklenburg                                            hanging\n",
              "80  Mecklenburg                                     cardiac arrest\n",
              "81  Mecklenburg                                  fentanyl toxicity\n",
              "82  Mecklenburg              fentanyl and valerylfentanyl toxicity\n",
              "83  Mecklenburg  blunt force head trauma, jump from second floo...\n",
              "84  Mecklenburg                                            hanging\n",
              "85  Mecklenburg                                 fentanyl toxicity \n",
              "86  Mecklenburg                    doxepin and quetiapine toxicity\n",
              "87  Mecklenburg                                            hanging"
            ],
            "text/html": [
              "\n",
              "  <div id=\"df-509e3e58-8df2-4922-94de-8cb4bdec4b5c\" class=\"colab-df-container\">\n",
              "    <div>\n",
              "<style scoped>\n",
              "    .dataframe tbody tr th:only-of-type {\n",
              "        vertical-align: middle;\n",
              "    }\n",
              "\n",
              "    .dataframe tbody tr th {\n",
              "        vertical-align: top;\n",
              "    }\n",
              "\n",
              "    .dataframe thead th {\n",
              "        text-align: right;\n",
              "    }\n",
              "</style>\n",
              "<table border=\"1\" class=\"dataframe\">\n",
              "  <thead>\n",
              "    <tr style=\"text-align: right;\">\n",
              "      <th></th>\n",
              "      <th>county</th>\n",
              "      <th>cause_detail</th>\n",
              "    </tr>\n",
              "  </thead>\n",
              "  <tbody>\n",
              "    <tr>\n",
              "      <th>70</th>\n",
              "      <td>Mecklenburg</td>\n",
              "      <td>pulmonary thromboemboli</td>\n",
              "    </tr>\n",
              "    <tr>\n",
              "      <th>71</th>\n",
              "      <td>Mecklenburg</td>\n",
              "      <td>heart attack</td>\n",
              "    </tr>\n",
              "    <tr>\n",
              "      <th>72</th>\n",
              "      <td>Mecklenburg</td>\n",
              "      <td>gastrointestinal hemorrhage</td>\n",
              "    </tr>\n",
              "    <tr>\n",
              "      <th>73</th>\n",
              "      <td>Mecklenburg</td>\n",
              "      <td>ischemic heart disease</td>\n",
              "    </tr>\n",
              "    <tr>\n",
              "      <th>74</th>\n",
              "      <td>Mecklenburg</td>\n",
              "      <td>massive pulmonary embolus, cerebral tumor, foc...</td>\n",
              "    </tr>\n",
              "    <tr>\n",
              "      <th>75</th>\n",
              "      <td>Mecklenburg</td>\n",
              "      <td>morbid obesity, diabetes</td>\n",
              "    </tr>\n",
              "    <tr>\n",
              "      <th>76</th>\n",
              "      <td>Mecklenburg</td>\n",
              "      <td>cardiac arrythmia, hypertensive heart disease</td>\n",
              "    </tr>\n",
              "    <tr>\n",
              "      <th>77</th>\n",
              "      <td>Mecklenburg</td>\n",
              "      <td>anoxic encehalopathy with an underlying cause ...</td>\n",
              "    </tr>\n",
              "    <tr>\n",
              "      <th>78</th>\n",
              "      <td>Mecklenburg</td>\n",
              "      <td>hanging</td>\n",
              "    </tr>\n",
              "    <tr>\n",
              "      <th>79</th>\n",
              "      <td>Mecklenburg</td>\n",
              "      <td>hanging</td>\n",
              "    </tr>\n",
              "    <tr>\n",
              "      <th>80</th>\n",
              "      <td>Mecklenburg</td>\n",
              "      <td>cardiac arrest</td>\n",
              "    </tr>\n",
              "    <tr>\n",
              "      <th>81</th>\n",
              "      <td>Mecklenburg</td>\n",
              "      <td>fentanyl toxicity</td>\n",
              "    </tr>\n",
              "    <tr>\n",
              "      <th>82</th>\n",
              "      <td>Mecklenburg</td>\n",
              "      <td>fentanyl and valerylfentanyl toxicity</td>\n",
              "    </tr>\n",
              "    <tr>\n",
              "      <th>83</th>\n",
              "      <td>Mecklenburg</td>\n",
              "      <td>blunt force head trauma, jump from second floo...</td>\n",
              "    </tr>\n",
              "    <tr>\n",
              "      <th>84</th>\n",
              "      <td>Mecklenburg</td>\n",
              "      <td>hanging</td>\n",
              "    </tr>\n",
              "    <tr>\n",
              "      <th>85</th>\n",
              "      <td>Mecklenburg</td>\n",
              "      <td>fentanyl toxicity</td>\n",
              "    </tr>\n",
              "    <tr>\n",
              "      <th>86</th>\n",
              "      <td>Mecklenburg</td>\n",
              "      <td>doxepin and quetiapine toxicity</td>\n",
              "    </tr>\n",
              "    <tr>\n",
              "      <th>87</th>\n",
              "      <td>Mecklenburg</td>\n",
              "      <td>hanging</td>\n",
              "    </tr>\n",
              "  </tbody>\n",
              "</table>\n",
              "</div>\n",
              "    <div class=\"colab-df-buttons\">\n",
              "\n",
              "  <div class=\"colab-df-container\">\n",
              "    <button class=\"colab-df-convert\" onclick=\"convertToInteractive('df-509e3e58-8df2-4922-94de-8cb4bdec4b5c')\"\n",
              "            title=\"Convert this dataframe to an interactive table.\"\n",
              "            style=\"display:none;\">\n",
              "\n",
              "  <svg xmlns=\"http://www.w3.org/2000/svg\" height=\"24px\" viewBox=\"0 -960 960 960\">\n",
              "    <path d=\"M120-120v-720h720v720H120Zm60-500h600v-160H180v160Zm220 220h160v-160H400v160Zm0 220h160v-160H400v160ZM180-400h160v-160H180v160Zm440 0h160v-160H620v160ZM180-180h160v-160H180v160Zm440 0h160v-160H620v160Z\"/>\n",
              "  </svg>\n",
              "    </button>\n",
              "\n",
              "  <style>\n",
              "    .colab-df-container {\n",
              "      display:flex;\n",
              "      gap: 12px;\n",
              "    }\n",
              "\n",
              "    .colab-df-convert {\n",
              "      background-color: #E8F0FE;\n",
              "      border: none;\n",
              "      border-radius: 50%;\n",
              "      cursor: pointer;\n",
              "      display: none;\n",
              "      fill: #1967D2;\n",
              "      height: 32px;\n",
              "      padding: 0 0 0 0;\n",
              "      width: 32px;\n",
              "    }\n",
              "\n",
              "    .colab-df-convert:hover {\n",
              "      background-color: #E2EBFA;\n",
              "      box-shadow: 0px 1px 2px rgba(60, 64, 67, 0.3), 0px 1px 3px 1px rgba(60, 64, 67, 0.15);\n",
              "      fill: #174EA6;\n",
              "    }\n",
              "\n",
              "    .colab-df-buttons div {\n",
              "      margin-bottom: 4px;\n",
              "    }\n",
              "\n",
              "    [theme=dark] .colab-df-convert {\n",
              "      background-color: #3B4455;\n",
              "      fill: #D2E3FC;\n",
              "    }\n",
              "\n",
              "    [theme=dark] .colab-df-convert:hover {\n",
              "      background-color: #434B5C;\n",
              "      box-shadow: 0px 1px 3px 1px rgba(0, 0, 0, 0.15);\n",
              "      filter: drop-shadow(0px 1px 2px rgba(0, 0, 0, 0.3));\n",
              "      fill: #FFFFFF;\n",
              "    }\n",
              "  </style>\n",
              "\n",
              "    <script>\n",
              "      const buttonEl =\n",
              "        document.querySelector('#df-509e3e58-8df2-4922-94de-8cb4bdec4b5c button.colab-df-convert');\n",
              "      buttonEl.style.display =\n",
              "        google.colab.kernel.accessAllowed ? 'block' : 'none';\n",
              "\n",
              "      async function convertToInteractive(key) {\n",
              "        const element = document.querySelector('#df-509e3e58-8df2-4922-94de-8cb4bdec4b5c');\n",
              "        const dataTable =\n",
              "          await google.colab.kernel.invokeFunction('convertToInteractive',\n",
              "                                                    [key], {});\n",
              "        if (!dataTable) return;\n",
              "\n",
              "        const docLinkHtml = 'Like what you see? Visit the ' +\n",
              "          '<a target=\"_blank\" href=https://colab.research.google.com/notebooks/data_table.ipynb>data table notebook</a>'\n",
              "          + ' to learn more about interactive tables.';\n",
              "        element.innerHTML = '';\n",
              "        dataTable['output_type'] = 'display_data';\n",
              "        await google.colab.output.renderOutput(dataTable, element);\n",
              "        const docLink = document.createElement('div');\n",
              "        docLink.innerHTML = docLinkHtml;\n",
              "        element.appendChild(docLink);\n",
              "      }\n",
              "    </script>\n",
              "  </div>\n",
              "\n",
              "\n",
              "<div id=\"df-dc0c2521-2aaa-460d-a6f9-286df9054264\">\n",
              "  <button class=\"colab-df-quickchart\" onclick=\"quickchart('df-dc0c2521-2aaa-460d-a6f9-286df9054264')\"\n",
              "            title=\"Suggest charts\"\n",
              "            style=\"display:none;\">\n",
              "\n",
              "<svg xmlns=\"http://www.w3.org/2000/svg\" height=\"24px\"viewBox=\"0 0 24 24\"\n",
              "     width=\"24px\">\n",
              "    <g>\n",
              "        <path d=\"M19 3H5c-1.1 0-2 .9-2 2v14c0 1.1.9 2 2 2h14c1.1 0 2-.9 2-2V5c0-1.1-.9-2-2-2zM9 17H7v-7h2v7zm4 0h-2V7h2v10zm4 0h-2v-4h2v4z\"/>\n",
              "    </g>\n",
              "</svg>\n",
              "  </button>\n",
              "\n",
              "<style>\n",
              "  .colab-df-quickchart {\n",
              "      --bg-color: #E8F0FE;\n",
              "      --fill-color: #1967D2;\n",
              "      --hover-bg-color: #E2EBFA;\n",
              "      --hover-fill-color: #174EA6;\n",
              "      --disabled-fill-color: #AAA;\n",
              "      --disabled-bg-color: #DDD;\n",
              "  }\n",
              "\n",
              "  [theme=dark] .colab-df-quickchart {\n",
              "      --bg-color: #3B4455;\n",
              "      --fill-color: #D2E3FC;\n",
              "      --hover-bg-color: #434B5C;\n",
              "      --hover-fill-color: #FFFFFF;\n",
              "      --disabled-bg-color: #3B4455;\n",
              "      --disabled-fill-color: #666;\n",
              "  }\n",
              "\n",
              "  .colab-df-quickchart {\n",
              "    background-color: var(--bg-color);\n",
              "    border: none;\n",
              "    border-radius: 50%;\n",
              "    cursor: pointer;\n",
              "    display: none;\n",
              "    fill: var(--fill-color);\n",
              "    height: 32px;\n",
              "    padding: 0;\n",
              "    width: 32px;\n",
              "  }\n",
              "\n",
              "  .colab-df-quickchart:hover {\n",
              "    background-color: var(--hover-bg-color);\n",
              "    box-shadow: 0 1px 2px rgba(60, 64, 67, 0.3), 0 1px 3px 1px rgba(60, 64, 67, 0.15);\n",
              "    fill: var(--button-hover-fill-color);\n",
              "  }\n",
              "\n",
              "  .colab-df-quickchart-complete:disabled,\n",
              "  .colab-df-quickchart-complete:disabled:hover {\n",
              "    background-color: var(--disabled-bg-color);\n",
              "    fill: var(--disabled-fill-color);\n",
              "    box-shadow: none;\n",
              "  }\n",
              "\n",
              "  .colab-df-spinner {\n",
              "    border: 2px solid var(--fill-color);\n",
              "    border-color: transparent;\n",
              "    border-bottom-color: var(--fill-color);\n",
              "    animation:\n",
              "      spin 1s steps(1) infinite;\n",
              "  }\n",
              "\n",
              "  @keyframes spin {\n",
              "    0% {\n",
              "      border-color: transparent;\n",
              "      border-bottom-color: var(--fill-color);\n",
              "      border-left-color: var(--fill-color);\n",
              "    }\n",
              "    20% {\n",
              "      border-color: transparent;\n",
              "      border-left-color: var(--fill-color);\n",
              "      border-top-color: var(--fill-color);\n",
              "    }\n",
              "    30% {\n",
              "      border-color: transparent;\n",
              "      border-left-color: var(--fill-color);\n",
              "      border-top-color: var(--fill-color);\n",
              "      border-right-color: var(--fill-color);\n",
              "    }\n",
              "    40% {\n",
              "      border-color: transparent;\n",
              "      border-right-color: var(--fill-color);\n",
              "      border-top-color: var(--fill-color);\n",
              "    }\n",
              "    60% {\n",
              "      border-color: transparent;\n",
              "      border-right-color: var(--fill-color);\n",
              "    }\n",
              "    80% {\n",
              "      border-color: transparent;\n",
              "      border-right-color: var(--fill-color);\n",
              "      border-bottom-color: var(--fill-color);\n",
              "    }\n",
              "    90% {\n",
              "      border-color: transparent;\n",
              "      border-bottom-color: var(--fill-color);\n",
              "    }\n",
              "  }\n",
              "</style>\n",
              "\n",
              "  <script>\n",
              "    async function quickchart(key) {\n",
              "      const quickchartButtonEl =\n",
              "        document.querySelector('#' + key + ' button');\n",
              "      quickchartButtonEl.disabled = true;  // To prevent multiple clicks.\n",
              "      quickchartButtonEl.classList.add('colab-df-spinner');\n",
              "      try {\n",
              "        const charts = await google.colab.kernel.invokeFunction(\n",
              "            'suggestCharts', [key], {});\n",
              "      } catch (error) {\n",
              "        console.error('Error during call to suggestCharts:', error);\n",
              "      }\n",
              "      quickchartButtonEl.classList.remove('colab-df-spinner');\n",
              "      quickchartButtonEl.classList.add('colab-df-quickchart-complete');\n",
              "    }\n",
              "    (() => {\n",
              "      let quickchartButtonEl =\n",
              "        document.querySelector('#df-dc0c2521-2aaa-460d-a6f9-286df9054264 button');\n",
              "      quickchartButtonEl.style.display =\n",
              "        google.colab.kernel.accessAllowed ? 'block' : 'none';\n",
              "    })();\n",
              "  </script>\n",
              "</div>\n",
              "\n",
              "    </div>\n",
              "  </div>\n"
            ],
            "application/vnd.google.colaboratory.intrinsic+json": {
              "type": "dataframe",
              "summary": "{\n  \"name\": \"df\",\n  \"rows\": 18,\n  \"fields\": [\n    {\n      \"column\": \"county\",\n      \"properties\": {\n        \"dtype\": \"category\",\n        \"num_unique_values\": 1,\n        \"samples\": [\n          \"Mecklenburg\"\n        ],\n        \"semantic_type\": \"\",\n        \"description\": \"\"\n      }\n    },\n    {\n      \"column\": \"cause_detail\",\n      \"properties\": {\n        \"dtype\": \"string\",\n        \"num_unique_values\": 15,\n        \"samples\": [\n          \"cardiac arrest\"\n        ],\n        \"semantic_type\": \"\",\n        \"description\": \"\"\n      }\n    }\n  ]\n}"
            }
          },
          "metadata": {},
          "execution_count": 13
        }
      ]
    },
    {
      "cell_type": "markdown",
      "source": [
        "Once you have input this function, you should see a table with your new dataframe, specific to Mecklenburg county!"
      ],
      "metadata": {
        "id": "apBh1od_G_A2"
      }
    },
    {
      "cell_type": "markdown",
      "source": [
        "---\n",
        "\n",
        "## Exporting your dataframes\n",
        "After creating your two new dataframes, you will need to export them into csv files. By doing so, you can download them and they can be used by others.\n",
        "\n",
        "1. The first step to exporting your new dataframes is to define your code as a subset, which is required so that Python knows what you want to export into a csv file.\n",
        "Follow the code as seen below:"
      ],
      "metadata": {
        "id": "Eyo6L_xOHD7J"
      }
    },
    {
      "cell_type": "code",
      "source": [
        "subset = dataframe.loc[101:119,[\"county\",\"cause_detail\"]]"
      ],
      "metadata": {
        "id": "CGXBV8NAHSzA"
      },
      "execution_count": null,
      "outputs": []
    },
    {
      "cell_type": "code",
      "source": [
        "subset = dataframe.loc[70:87,[\"county\",\"cause_detail\"]]"
      ],
      "metadata": {
        "id": "CD8OdWph3GhC"
      },
      "execution_count": 17,
      "outputs": []
    },
    {
      "cell_type": "markdown",
      "source": [
        "2. Next, you should be able to turn the subset into a csv. To do this, you should input the function 'subset.to_csv'\n",
        "To export the two dataframes above into csv files, do the following:"
      ],
      "metadata": {
        "id": "prTt0fZnHnEl"
      }
    },
    {
      "cell_type": "code",
      "source": [
        "subset.to_csv(\"Wake_subset.csv\", index=False)"
      ],
      "metadata": {
        "id": "cBlEUhHuHrW6"
      },
      "execution_count": null,
      "outputs": []
    },
    {
      "cell_type": "code",
      "source": [
        "subset.to_csv(\"Mecklenburg_subset.csv\", index=False)"
      ],
      "metadata": {
        "id": "_CstcgJh3nPr"
      },
      "execution_count": 18,
      "outputs": []
    },
    {
      "cell_type": "markdown",
      "source": [
        " It is important to add the index=False function to this code so that the other numbers that we filtered out from the raw dataset. This ensures that you are only getting the numbers exported that you need.\n",
        "\n",
        "\n",
        "\n",
        "Once you have input both functions into your notebook, you should be all good to export your files. They are now ready to be used by others!\n",
        "\n",
        "**CONGRATS!!!**\n"
      ],
      "metadata": {
        "id": "eWITW1O5IiQ9"
      }
    }
  ]
}