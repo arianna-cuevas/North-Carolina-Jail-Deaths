{
  "nbformat": 4,
  "nbformat_minor": 0,
  "metadata": {
    "colab": {
      "provenance": [],
      "history_visible": true
    },
    "kernelspec": {
      "name": "python3",
      "display_name": "Python 3"
    },
    "language_info": {
      "name": "python"
    }
  },
  "cells": [
    {
      "cell_type": "markdown",
      "source": [
        "# Overview\n",
        "-   The purpose of these instructions is to give the context and tools to create two subsets relating to jail deaths in North Carolina divided by counties in Python.\n",
        "-   This will also allow you to eventually merge them together and analyze the data and variables pulled from the large dataset.\n",
        "-   All of the data is specifically from different counties in North Carolina.\n",
        "\n",
        "## Getting Started\n",
        "----\n",
        "1.  First, you will want to create a file in the file explorer to add all your work into.\n",
        "    \n",
        "-   The name of this folder is not important, as long as you know what it is. This step is important because you need to have all of your important files in one place so that nothing gets lost.\n",
        "2. Next, create a Google CoLab Notebook to begin creating your subsets. This is where all the coding will happen and this is where you will do the work of filtering and merging subsets.\n",
        "3. After creating your CoLab notebook, you should be ready to download the csv file into the notebook. You should begin by using  [this link](https://www.reuters.com/investigates/special-report/usa-jails-graphic/) to find the dataset called \"North Carolina\" and download the csv file they provide.\n",
        "\n",
        "-   Do not download the pdf version, as the csv is what you will need to create your subsets in Google CoLab.  \n",
        "-   Once you complete the download, you should have a folder called \"North Carolina\" which includes a Microsoft Excel worksheet, and two csv files titled \"NorthCarolina_deaths.csv\" and \"NorthCarolina_jails.csv\".\n",
        "-   **You need to use the file titled \"NorthCarolina_deaths.csv\" in order to create this subset.** This is the csv file that has all the information needed.\n",
        "\n",
        "4.  Next, you will need to upload the North Carolina deaths csv file into the Google CoLab notebook. To do this, you should click the folder icon in the toolbar on the left of the Google CoLab notebook.\n",
        "-   Click the folder above \"sample data\" and then click the folder that says \"content\". Next, click the three dots that appears next to \"content\" when you hover your mouse and hit \"upload\".\n",
        "-   Once you have clicked upload, it will prompt you to add your csv file. This is where you will add the **\"NorthCarolina_deaths.csv\"** file.\n",
        "5.\n",
        "The next step is to import the Pandas and Numpy package as seen below:"
      ],
      "metadata": {
        "id": "M0LhWFsKT_7_"
      }
    },
    {
      "cell_type": "code",
      "source": [
        "import pandas as pd\n",
        "import numpy as np"
      ],
      "metadata": {
        "id": "o__dXZmIzb3U"
      },
      "execution_count": 3,
      "outputs": []
    },
    {
      "cell_type": "markdown",
      "source": [
        "This step will allow you to use pandas to code with your csv file and create your subsets.\n",
        "\n",
        "6. Read the North Carolina Deaths csv file and display data as seen below:\n",
        "-   \n",
        " File is read through 'read_csv()' function"
      ],
      "metadata": {
        "id": "7ahClxzjUbv9"
      }
    },
    {
      "cell_type": "code",
      "source": [
        "df = pd.read_csv(\"NorthCarolina_deaths.csv\")"
      ],
      "metadata": {
        "id": "sb4RMVJD9ZlE"
      },
      "execution_count": 4,
      "outputs": []
    },
    {
      "cell_type": "markdown",
      "source": [
        "Now you should be ready to begin with your first subset!\n",
        "\n",
        "\n",
        "## Creating your first subset\n",
        "\n",
        "After you have uploaded the csv and imported Pandas and Numpy, you are ready to begin filtering your data.\n",
        "\n",
        "1. You will need to isolate two variables from the large csv file. You should be separating the data about causes of deaths of inmates from Wake County.\n",
        "2. To do this, you will need to utilize the function .loc which is used to filter data by columns. Input the function seen below and then follow this with brackets to input information.\n",
        "\n",
        "        'df.loc[[]]'\n",
        "2. Input the brackets after the .loc function and make sure to include the row numbers that need to be included. These row numbers should be the ones that correspond to Wake county, so that the only data we are seeing is for this specific county. These row numbers are 101-119.\n",
        "3. In the next bracket, you will need to input the specific columns that correspond to the variables that we need for this subset. The columns we want to look at our \"county\" and \"causes_detail\", as these columns will isolate the information relating to the county (which has already been specified by the numbers to only get Wake) and the causes of death for the inmates in this specific county.\n",
        "4. Finally input the function as seen below:"
      ],
      "metadata": {
        "id": "mCf3VFyAXEFj"
      }
    },
    {
      "cell_type": "code",
      "source": [
        "df.loc[101:116, [\"county\", \"cause_detail\",\"year\"]],"
      ],
      "metadata": {
        "colab": {
          "base_uri": "https://localhost:8080/"
        },
        "id": "y4RvdmdBC8aG",
        "outputId": "c53d6b53-a986-44bb-a26d-f5b06d949c14"
      },
      "execution_count": 5,
      "outputs": [
        {
          "output_type": "execute_result",
          "data": {
            "text/plain": [
              "(    county                                       cause_detail    year\n",
              " 101   Wake                             ischemic heart disease  2009.0\n",
              " 102   Wake                                            suicide  2010.0\n",
              " 103   Wake                                            suicide  2010.0\n",
              " 104   Wake                                           natural   2011.0\n",
              " 105   Wake                                    hanging w sheet  2011.0\n",
              " 106   Wake                                           natural   2012.0\n",
              " 107   Wake                                      brain injury   2013.0\n",
              " 108   Wake                                           natural   2014.0\n",
              " 109   Wake                                           natural   2014.0\n",
              " 110   Wake             climbed rails and jumped off mezzanine  2014.0\n",
              " 111   Wake  complications of withdrawal due to chronic sub...  2015.0\n",
              " 112   Wake                                            suicide  2015.0\n",
              " 113   Wake                                           natural   2016.0\n",
              " 114   Wake                                                NaN  2016.0\n",
              " 115   Wake                                            suicide  2017.0\n",
              " 116   Wake                                           natural   2017.0,)"
            ]
          },
          "metadata": {},
          "execution_count": 5
        }
      ]
    },
    {
      "cell_type": "markdown",
      "source": [
        "The function uses the row numbers for the variable \"Wake County\" to separate that county from the larger csv with every county listed in North Carolina. Then, using the brackets, the function shows only the county and causes of death columns from the data that we need for this subset.\n",
        "  \n",
        "  Once you have completed this step, a table with your new data should appear!"
      ],
      "metadata": {
        "id": "9biNCDjrXpYT"
      }
    },
    {
      "cell_type": "code",
      "source": [
        "subset = df.loc[101:119,[\"county\", \"cause_detail\"]]"
      ],
      "metadata": {
        "id": "uJ0uyfp6YLcX"
      },
      "execution_count": 6,
      "outputs": []
    },
    {
      "cell_type": "code",
      "source": [
        "subset.to_csv(\"Wake_subset.csv\", index=False)"
      ],
      "metadata": {
        "id": "86vYtNKsYOpV"
      },
      "execution_count": 7,
      "outputs": []
    },
    {
      "cell_type": "markdown",
      "source": [
        "**Once you have finished inputing the function, you should see the two variables that you have pulled out from the large csv and you have your first subset!**"
      ],
      "metadata": {
        "id": "oH9Z_CIbqs9f"
      }
    }
  ]
}